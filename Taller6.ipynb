{
  "nbformat": 4,
  "nbformat_minor": 0,
  "metadata": {
    "colab": {
      "provenance": [],
      "authorship_tag": "ABX9TyPaZmtMEbXuIAMhK19jwP5P",
      "include_colab_link": true
    },
    "kernelspec": {
      "name": "python3",
      "display_name": "Python 3"
    },
    "language_info": {
      "name": "python"
    }
  },
  "cells": [
    {
      "cell_type": "markdown",
      "metadata": {
        "id": "view-in-github",
        "colab_type": "text"
      },
      "source": [
        "<a href=\"https://colab.research.google.com/github/carlostamayo636/cd_202202_Carlos_Tamayo/blob/main/Taller6.ipynb\" target=\"_parent\"><img src=\"https://colab.research.google.com/assets/colab-badge.svg\" alt=\"Open In Colab\"/></a>"
      ]
    },
    {
      "cell_type": "code",
      "execution_count": 4,
      "metadata": {
        "id": "NkHS0KSDnWKQ"
      },
      "outputs": [],
      "source": [
        "import random as rd\n",
        "import math"
      ]
    },
    {
      "cell_type": "code",
      "source": [
        "def distancia(x, y):\n",
        "  return math.sqrt(x**2 + y**2)"
      ],
      "metadata": {
        "id": "Sa3jKE7RqD3D"
      },
      "execution_count": 5,
      "outputs": []
    },
    {
      "cell_type": "code",
      "source": [
        "puntosLado = 100\n",
        "cont = 0\n",
        "paso = 1 / (puntosLado - 1)\n",
        "for i in range(puntosLado**2):\n",
        "  x = rd.uniform(-1, 1)\n",
        "  y = rd.uniform(-1, 1)\n",
        "  if distancia(x, y) <= 1:\n",
        "    cont += 1\n",
        "  paso += 1\n",
        "\n",
        "print(\"Puntos\", cont)\n",
        "print(\"Estimacion de Pi\", (cont*4/(puntosLado**2)))"
      ],
      "metadata": {
        "colab": {
          "base_uri": "https://localhost:8080/"
        },
        "id": "EtkYAERUnk4R",
        "outputId": "42486735-e1b2-4748-dcc0-b53b4669efcf"
      },
      "execution_count": 6,
      "outputs": [
        {
          "output_type": "stream",
          "name": "stdout",
          "text": [
            "Puntos 7862\n",
            "Estimacion de Pi 3.1448\n"
          ]
        }
      ]
    }
  ]
}