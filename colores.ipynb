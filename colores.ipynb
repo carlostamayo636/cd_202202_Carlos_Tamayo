{
  "nbformat": 4,
  "nbformat_minor": 0,
  "metadata": {
    "colab": {
      "name": "colores.ipynb",
      "provenance": [],
      "authorship_tag": "ABX9TyN4x+jhWPA6IpHm9fE1QHj+",
      "include_colab_link": true
    },
    "kernelspec": {
      "name": "python3",
      "display_name": "Python 3"
    },
    "language_info": {
      "name": "python"
    }
  },
  "cells": [
    {
      "cell_type": "markdown",
      "metadata": {
        "id": "view-in-github",
        "colab_type": "text"
      },
      "source": [
        "<a href=\"https://colab.research.google.com/github/carlostamayo636/cd_202202_Carlos_Tamayo/blob/main/colores.ipynb\" target=\"_parent\"><img src=\"https://colab.research.google.com/assets/colab-badge.svg\" alt=\"Open In Colab\"/></a>"
      ]
    },
    {
      "cell_type": "code",
      "source": [
        "import colorsys"
      ],
      "metadata": {
        "id": "Faz6fesNbzaD"
      },
      "execution_count": null,
      "outputs": []
    },
    {
      "cell_type": "code",
      "execution_count": null,
      "metadata": {
        "id": "patql-IAgcYV"
      },
      "outputs": [],
      "source": [
        "def generar_gama(ri, gi, bi, rf, gf, bf, cantidad):\n",
        "  hsvi = colorsys.rgb_to_hsv(ri / 255, gi /255, bi / 255)\n",
        "  hsvf = colorsys.rgb_to_hsv(rf / 255, gf /255, bf / 255)\n",
        "\n",
        "  pasoh = (hsvf[0]-hsvi[0]) / (cantidad-1)\n",
        "  pasos = (hsvf[1]-hsvi[1]) / (cantidad-1)\n",
        "  pasov = (hsvf[2]-hsvi[2]) / (cantidad-1)\n",
        "\n",
        "  listaRGB = []\n",
        "  listaRGB.append((ri / 255, gi /255, bi / 255))\n",
        "  for i in range(cantidad-1):\n",
        "    h = hsvi[0] + pasoh * (i + 1)\n",
        "    s = hsvi[1] + pasos* (i + 1)\n",
        "    v = hsvi[2] + pasov * (i + 1)\n",
        "\n",
        "    rgb = colorsys.hsv_to_rgb(h, s, v)\n",
        "    #listaRGB.append([round(rgb[0] * 255, 0), round(rgb[1] * 255, 0), round(rgb[2] * 255, 0)])\n",
        "    listaRGB.append(rgb)\n",
        "\n",
        "  return listaRGB"
      ]
    },
    {
      "cell_type": "code",
      "source": [
        "gama = generar_gama(255, 0, 0, 255, 255, 0, 8)\n",
        "gama "
      ],
      "metadata": {
        "id": "5hLj-n5xggVN",
        "colab": {
          "base_uri": "https://localhost:8080/"
        },
        "outputId": "936c0cde-35cf-4027-ebba-026765f1bdb3"
      },
      "execution_count": null,
      "outputs": [
        {
          "output_type": "execute_result",
          "data": {
            "text/plain": [
              "[(1.0, 0.0, 0.0),\n",
              " (1.0, 0.1428571428571428, 0.0),\n",
              " (1.0, 0.2857142857142857, 0.0),\n",
              " (1.0, 0.4285714285714286, 0.0),\n",
              " (1.0, 0.5714285714285714, 0.0),\n",
              " (1.0, 0.7142857142857142, 0.0),\n",
              " (1.0, 0.8571428571428571, 0.0),\n",
              " (1.0, 1.0, 0.0)]"
            ]
          },
          "metadata": {},
          "execution_count": 37
        }
      ]
    },
    {
      "cell_type": "code",
      "source": [
        "import matplotlib.pyplot as plt\n",
        "import matplotlib.patches as patches\n",
        "import matplotlib.colors as colors\n",
        "import math"
      ],
      "metadata": {
        "id": "QixpLz6hhO_z"
      },
      "execution_count": null,
      "outputs": []
    },
    {
      "cell_type": "code",
      "source": [
        "fig = plt.figure()\n",
        "ax = fig.add_subplot(111)\n",
        "\n",
        "count = len(gama)\n",
        "x = 0\n",
        "y = 0\n",
        "h = 1 / count\n",
        "\n",
        "for cl in gama:\n",
        "  pos = (x / count, y / count)\n",
        "  ax.add_patch(patches.Rectangle(pos, 1, h, color=cl))\n",
        "  if y >= count-1:\n",
        "    x += 1\n",
        "    y = 0\n",
        "  else:\n",
        "    y += 1\n",
        "\n",
        "plt.show()"
      ],
      "metadata": {
        "colab": {
          "base_uri": "https://localhost:8080/",
          "height": 269
        },
        "id": "OkfzlOS0hPNL",
        "outputId": "aada168a-9dec-439c-88ca-90c32a8bd410"
      },
      "execution_count": null,
      "outputs": [
        {
          "output_type": "display_data",
          "data": {
            "text/plain": [
              "<Figure size 432x288 with 1 Axes>"
            ],
            "image/png": "[encoded data removed]"
          },
          "metadata": {
            "needs_background": "light"
          }
        }
      ]
    }
  ]
}